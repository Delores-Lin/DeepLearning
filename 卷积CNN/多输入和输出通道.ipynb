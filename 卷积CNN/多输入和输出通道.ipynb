{
 "cells": [
  {
   "cell_type": "code",
   "execution_count": 1,
   "id": "845668ee",
   "metadata": {},
   "outputs": [],
   "source": [
    "import torch\n",
    "from d2l import torch as d2l"
   ]
  },
  {
   "cell_type": "code",
   "execution_count": 2,
   "id": "69936ccb",
   "metadata": {},
   "outputs": [],
   "source": [
    "def corr2d_multi_in(X, K):\n",
    "    return sum(d2l.corr2d(x, k) for x, k in zip(X, K))"
   ]
  },
  {
   "cell_type": "markdown",
   "id": "c3eff101",
   "metadata": {},
   "source": [
    "K = torch.stack((K, K + 1, K + 2), 0)\n",
    "`zip(X, K)`将每一个通道和相应的卷积核进行绑定，生成一个元组，然后遍历每一个元组，分别进行corr2d操作，再将结果相加得到输出通道为1的结果"
   ]
  },
  {
   "cell_type": "code",
   "execution_count": 3,
   "id": "b66c92aa",
   "metadata": {},
   "outputs": [
    {
     "data": {
      "text/plain": [
       "tensor([[ 56.,  72.],\n",
       "        [104., 120.]])"
      ]
     },
     "execution_count": 3,
     "metadata": {},
     "output_type": "execute_result"
    }
   ],
   "source": [
    "X = torch.tensor([  [[0.0, 1.0, 2.0],\n",
    "                     [3.0, 4.0, 5.0],\n",
    "                     [6.0, 7.0, 8.0]],\n",
    "\n",
    "                    [[1.0, 2.0, 3.0],\n",
    "                     [4.0, 5.0, 6.0],\n",
    "                     [7.0, 8.0, 9.0]]]) \n",
    "                    # 输入通道数为2，整体形状为(2,3,3)\n",
    "\n",
    "K = torch.tensor([  [[0.0, 1.0], \n",
    "                     [2.0, 3.0]],\n",
    "\n",
    "                    [[1.0, 2.0], \n",
    "                     [3.0, 4.0]]])\n",
    "                     # 输入通道数为2，整体形状为(2,2,2)\n",
    "\n",
    "corr2d_multi_in(X, K)"
   ]
  },
  {
   "cell_type": "code",
   "execution_count": 4,
   "id": "28be2cae",
   "metadata": {},
   "outputs": [
    {
     "data": {
      "text/plain": [
       "torch.Size([3, 2, 2, 2])"
      ]
     },
     "execution_count": 4,
     "metadata": {},
     "output_type": "execute_result"
    }
   ],
   "source": [
    "def corr2d_multi_in_out(X, K):\n",
    "    return torch.stack([corr2d_multi_in(K, k) for k in K], 0)\n",
    "\n",
    "K = torch.stack((K, K + 1, K + 2), 0)\n",
    "K.shape"
   ]
  },
  {
   "cell_type": "markdown",
   "id": "025ee233",
   "metadata": {},
   "source": [
    "`torch.stack()`是 PyTorch 中一个非常重要的张量操作函数。它的作用是：将一个序列（比如列表或元组）中的多个张量沿着一个 `新创建` 的维度进行堆叠，从而合并成一个更高维度的张量。\n",
    "`0`: 这个参数是 dim（dimension，维度）。dim=0 的意思是：“在第 0 维的位置上创建一个新的维度来进行堆叠”\n",
    "堆叠出来的是四维向量，由于dim=0，因此堆叠出来的向量的形状为(3, 2, 2, 2)"
   ]
  },
  {
   "cell_type": "code",
   "execution_count": 5,
   "id": "83b8faec",
   "metadata": {},
   "outputs": [
    {
     "name": "stdout",
     "output_type": "stream",
     "text": [
      "tensor([[[[0., 1.],\n",
      "          [2., 3.]],\n",
      "\n",
      "         [[1., 2.],\n",
      "          [3., 4.]]],\n",
      "\n",
      "\n",
      "        [[[1., 2.],\n",
      "          [3., 4.]],\n",
      "\n",
      "         [[2., 3.],\n",
      "          [4., 5.]]],\n",
      "\n",
      "\n",
      "        [[[2., 3.],\n",
      "          [4., 5.]],\n",
      "\n",
      "         [[3., 4.],\n",
      "          [5., 6.]]]])\n"
     ]
    }
   ],
   "source": [
    "print(K)"
   ]
  },
  {
   "cell_type": "code",
   "execution_count": 6,
   "id": "5353f8b7",
   "metadata": {},
   "outputs": [],
   "source": [
    "def corr2d_multi_in_out_1x1(X, K):\n",
    "    c_i, h, w = X.shape\n",
    "    c_o = K.shape[0]\n",
    "    X = X.reshape((c_i, h * w))\n",
    "    K = K.reshape((c_o, c_i))\n",
    "    Y = torch.matmul(K, X)\n",
    "    return Y.reshape((c_o, h, w))\n"
   ]
  },
  {
   "cell_type": "code",
   "execution_count": 7,
   "id": "04ff74ee",
   "metadata": {},
   "outputs": [
    {
     "ename": "AssertionError",
     "evalue": "",
     "output_type": "error",
     "traceback": [
      "\u001b[1;31m---------------------------------------------------------------------------\u001b[0m",
      "\u001b[1;31mAssertionError\u001b[0m                            Traceback (most recent call last)",
      "Cell \u001b[1;32mIn[7], line 5\u001b[0m\n\u001b[0;32m      3\u001b[0m Y1 \u001b[38;5;241m=\u001b[39m corr2d_multi_in_out_1x1(X, K)\n\u001b[0;32m      4\u001b[0m Y2 \u001b[38;5;241m=\u001b[39m corr2d_multi_in_out(X, K)\n\u001b[1;32m----> 5\u001b[0m \u001b[38;5;28;01massert\u001b[39;00m \u001b[38;5;28mfloat\u001b[39m(torch\u001b[38;5;241m.\u001b[39mabs(Y1 \u001b[38;5;241m-\u001b[39m Y2)\u001b[38;5;241m.\u001b[39msum()) \u001b[38;5;241m<\u001b[39m \u001b[38;5;241m1e-6\u001b[39m\n",
      "\u001b[1;31mAssertionError\u001b[0m: "
     ]
    }
   ],
   "source": [
    "X = torch.normal(0, 1, (3, 3, 3))\n",
    "K = torch.normal(0, 1, (2, 3, 1, 1))\n",
    "Y1 = corr2d_multi_in_out_1x1(X, K)\n",
    "Y2 = corr2d_multi_in_out(X, K)\n",
    "assert float(torch.abs(Y1 - Y2).sum()) < 1e-6"
   ]
  },
  {
   "cell_type": "code",
   "execution_count": null,
   "id": "a6575c0c",
   "metadata": {},
   "outputs": [],
   "source": []
  }
 ],
 "metadata": {
  "kernelspec": {
   "display_name": "d2l",
   "language": "python",
   "name": "python3"
  },
  "language_info": {
   "codemirror_mode": {
    "name": "ipython",
    "version": 3
   },
   "file_extension": ".py",
   "mimetype": "text/x-python",
   "name": "python",
   "nbconvert_exporter": "python",
   "pygments_lexer": "ipython3",
   "version": "3.9.23"
  }
 },
 "nbformat": 4,
 "nbformat_minor": 5
}
